{
  "nbformat": 4,
  "nbformat_minor": 0,
  "metadata": {
    "colab": {
      "provenance": [],
      "authorship_tag": "ABX9TyP61aRCEWVuLOx7CG4es8oc",
      "include_colab_link": true
    },
    "kernelspec": {
      "name": "python3",
      "display_name": "Python 3"
    },
    "language_info": {
      "name": "python"
    }
  },
  "cells": [
    {
      "cell_type": "markdown",
      "metadata": {
        "id": "view-in-github",
        "colab_type": "text"
      },
      "source": [
        "<a href=\"https://colab.research.google.com/github/MELAI-1/Quantum-computing-project/blob/main/VQE.ipynb\" target=\"_parent\"><img src=\"https://colab.research.google.com/assets/colab-badge.svg\" alt=\"Open In Colab\"/></a>"
      ]
    },
    {
      "cell_type": "code",
      "execution_count": null,
      "metadata": {
        "id": "VNxGJssBiySZ"
      },
      "outputs": [],
      "source": [
        "import numpy as np\n",
        "import pylab # just for plotting\n",
        "import copy\n",
        "from  qiskit import BasicAer # for quantum computer simulator\n",
        "from qiskit.aqua import aqua_globals,QuantumInstance # run the experiment\n",
        "from qiskit .aqua.algorithms import NumpyMinimumEigensolver,VQE # the exact energie\n",
        "from qiskit.aqua.components.optimizers import SLSQP #import the optimizers\n",
        "from qiskit.chemistry.components.initial_states import HartreeFock # initial antsarz\n",
        "from qiskit.chemistry.components.variational_forms import UCCSD\n",
        "from qiskit.chemistry.drivers import PY"
      ]
    },
    {
      "cell_type": "code",
      "source": [
        "molecule= \"\" , #define the molecule\n",
        "distances=np.arange(0.5,4.25,0.25)"
      ],
      "metadata": {
        "id": "GHtqd189mBBl"
      },
      "execution_count": null,
      "outputs": []
    }
  ]
}