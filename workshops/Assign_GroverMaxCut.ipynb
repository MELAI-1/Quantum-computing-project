{
  "cells": [
    {
      "cell_type": "markdown",
      "metadata": {
        "id": "view-in-github",
        "colab_type": "text"
      },
      "source": [
        "<a href=\"https://colab.research.google.com/github/MELAI-1/Quantum-computing-project/blob/main/workshops/Assign_GroverMaxCut.ipynb\" target=\"_parent\"><img src=\"https://colab.research.google.com/assets/colab-badge.svg\" alt=\"Open In Colab\"/></a>"
      ]
    },
    {
      "cell_type": "markdown",
      "metadata": {
        "deletable": false,
        "editable": false,
        "nbgrader": {
          "cell_type": "markdown",
          "checksum": "ac08d7ea268ce6a20a0e0a0d19c24352",
          "grade": false,
          "grade_id": "cell-33da3167fca0d468",
          "locked": true,
          "schema_version": 3,
          "solution": false,
          "task": false
        },
        "id": "wRhdTqirxkwb"
      },
      "source": [
        "# Homework - Grover MaxCut\n",
        "\n",
        "The places where you have enter code are marked with `# YOUR CODE HERE`."
      ]
    },
    {
      "cell_type": "code",
      "source": [
        "!pip install cirq"
      ],
      "metadata": {
        "colab": {
          "base_uri": "https://localhost:8080/"
        },
        "id": "duBuFMrtWP2-",
        "outputId": "25893330-d8ad-4c79-f1cb-b8c2aabd0b88"
      },
      "execution_count": 1,
      "outputs": [
        {
          "output_type": "stream",
          "name": "stdout",
          "text": [
            "Collecting cirq\n",
            "  Downloading cirq-1.5.0-py3-none-any.whl.metadata (15 kB)\n",
            "Collecting cirq-aqt==1.5.0 (from cirq)\n",
            "  Downloading cirq_aqt-1.5.0-py3-none-any.whl.metadata (4.8 kB)\n",
            "Collecting cirq-core==1.5.0 (from cirq)\n",
            "  Downloading cirq_core-1.5.0-py3-none-any.whl.metadata (4.9 kB)\n",
            "Collecting cirq-google==1.5.0 (from cirq)\n",
            "  Downloading cirq_google-1.5.0-py3-none-any.whl.metadata (4.9 kB)\n",
            "Collecting cirq-ionq==1.5.0 (from cirq)\n",
            "  Downloading cirq_ionq-1.5.0-py3-none-any.whl.metadata (4.7 kB)\n",
            "Collecting cirq-pasqal==1.5.0 (from cirq)\n",
            "  Downloading cirq_pasqal-1.5.0-py3-none-any.whl.metadata (4.8 kB)\n",
            "Collecting cirq-web==1.5.0 (from cirq)\n",
            "  Downloading cirq_web-1.5.0-py3-none-any.whl.metadata (5.5 kB)\n",
            "Requirement already satisfied: requests~=2.32 in /usr/local/lib/python3.11/dist-packages (from cirq-aqt==1.5.0->cirq) (2.32.3)\n",
            "Requirement already satisfied: attrs>=21.3.0 in /usr/local/lib/python3.11/dist-packages (from cirq-core==1.5.0->cirq) (25.3.0)\n",
            "Collecting duet>=0.2.8 (from cirq-core==1.5.0->cirq)\n",
            "  Downloading duet-0.2.9-py3-none-any.whl.metadata (2.3 kB)\n",
            "Requirement already satisfied: matplotlib~=3.7 in /usr/local/lib/python3.11/dist-packages (from cirq-core==1.5.0->cirq) (3.10.0)\n",
            "Requirement already satisfied: networkx~=3.1 in /usr/local/lib/python3.11/dist-packages (from cirq-core==1.5.0->cirq) (3.5)\n",
            "Requirement already satisfied: numpy>=1.25 in /usr/local/lib/python3.11/dist-packages (from cirq-core==1.5.0->cirq) (2.0.2)\n",
            "Requirement already satisfied: pandas~=2.0 in /usr/local/lib/python3.11/dist-packages (from cirq-core==1.5.0->cirq) (2.2.2)\n",
            "Requirement already satisfied: sortedcontainers~=2.0 in /usr/local/lib/python3.11/dist-packages (from cirq-core==1.5.0->cirq) (2.4.0)\n",
            "Requirement already satisfied: scipy~=1.11 in /usr/local/lib/python3.11/dist-packages (from cirq-core==1.5.0->cirq) (1.15.3)\n",
            "Requirement already satisfied: sympy in /usr/local/lib/python3.11/dist-packages (from cirq-core==1.5.0->cirq) (1.13.1)\n",
            "Requirement already satisfied: typing_extensions>=4.2 in /usr/local/lib/python3.11/dist-packages (from cirq-core==1.5.0->cirq) (4.14.0)\n",
            "Requirement already satisfied: tqdm>=4.12 in /usr/local/lib/python3.11/dist-packages (from cirq-core==1.5.0->cirq) (4.67.1)\n",
            "Requirement already satisfied: google-api-core>=1.14.0 in /usr/local/lib/python3.11/dist-packages (from google-api-core[grpc]>=1.14.0->cirq-google==1.5.0->cirq) (2.25.0)\n",
            "Requirement already satisfied: proto-plus>=1.20.0 in /usr/local/lib/python3.11/dist-packages (from cirq-google==1.5.0->cirq) (1.26.1)\n",
            "Requirement already satisfied: protobuf<6.0,>=4.25 in /usr/local/lib/python3.11/dist-packages (from cirq-google==1.5.0->cirq) (5.29.5)\n",
            "Collecting typedunits (from cirq-google==1.5.0->cirq)\n",
            "  Downloading typedunits-0.0.1.dev20250509200845-cp311-cp311-manylinux_2_17_x86_64.manylinux2014_x86_64.whl.metadata (4.8 kB)\n",
            "Requirement already satisfied: googleapis-common-protos<2.0.0,>=1.56.2 in /usr/local/lib/python3.11/dist-packages (from google-api-core>=1.14.0->google-api-core[grpc]>=1.14.0->cirq-google==1.5.0->cirq) (1.70.0)\n",
            "Requirement already satisfied: google-auth<3.0.0,>=2.14.1 in /usr/local/lib/python3.11/dist-packages (from google-api-core>=1.14.0->google-api-core[grpc]>=1.14.0->cirq-google==1.5.0->cirq) (2.38.0)\n",
            "Requirement already satisfied: grpcio<2.0.0,>=1.33.2 in /usr/local/lib/python3.11/dist-packages (from google-api-core[grpc]>=1.14.0->cirq-google==1.5.0->cirq) (1.72.1)\n",
            "Requirement already satisfied: grpcio-status<2.0.0,>=1.33.2 in /usr/local/lib/python3.11/dist-packages (from google-api-core[grpc]>=1.14.0->cirq-google==1.5.0->cirq) (1.71.0)\n",
            "Requirement already satisfied: contourpy>=1.0.1 in /usr/local/lib/python3.11/dist-packages (from matplotlib~=3.7->cirq-core==1.5.0->cirq) (1.3.2)\n",
            "Requirement already satisfied: cycler>=0.10 in /usr/local/lib/python3.11/dist-packages (from matplotlib~=3.7->cirq-core==1.5.0->cirq) (0.12.1)\n",
            "Requirement already satisfied: fonttools>=4.22.0 in /usr/local/lib/python3.11/dist-packages (from matplotlib~=3.7->cirq-core==1.5.0->cirq) (4.58.1)\n",
            "Requirement already satisfied: kiwisolver>=1.3.1 in /usr/local/lib/python3.11/dist-packages (from matplotlib~=3.7->cirq-core==1.5.0->cirq) (1.4.8)\n",
            "Requirement already satisfied: packaging>=20.0 in /usr/local/lib/python3.11/dist-packages (from matplotlib~=3.7->cirq-core==1.5.0->cirq) (24.2)\n",
            "Requirement already satisfied: pillow>=8 in /usr/local/lib/python3.11/dist-packages (from matplotlib~=3.7->cirq-core==1.5.0->cirq) (11.2.1)\n",
            "Requirement already satisfied: pyparsing>=2.3.1 in /usr/local/lib/python3.11/dist-packages (from matplotlib~=3.7->cirq-core==1.5.0->cirq) (3.2.3)\n",
            "Requirement already satisfied: python-dateutil>=2.7 in /usr/local/lib/python3.11/dist-packages (from matplotlib~=3.7->cirq-core==1.5.0->cirq) (2.9.0.post0)\n",
            "Requirement already satisfied: pytz>=2020.1 in /usr/local/lib/python3.11/dist-packages (from pandas~=2.0->cirq-core==1.5.0->cirq) (2025.2)\n",
            "Requirement already satisfied: tzdata>=2022.7 in /usr/local/lib/python3.11/dist-packages (from pandas~=2.0->cirq-core==1.5.0->cirq) (2025.2)\n",
            "Requirement already satisfied: charset-normalizer<4,>=2 in /usr/local/lib/python3.11/dist-packages (from requests~=2.32->cirq-aqt==1.5.0->cirq) (3.4.2)\n",
            "Requirement already satisfied: idna<4,>=2.5 in /usr/local/lib/python3.11/dist-packages (from requests~=2.32->cirq-aqt==1.5.0->cirq) (3.10)\n",
            "Requirement already satisfied: urllib3<3,>=1.21.1 in /usr/local/lib/python3.11/dist-packages (from requests~=2.32->cirq-aqt==1.5.0->cirq) (2.4.0)\n",
            "Requirement already satisfied: certifi>=2017.4.17 in /usr/local/lib/python3.11/dist-packages (from requests~=2.32->cirq-aqt==1.5.0->cirq) (2025.4.26)\n",
            "Requirement already satisfied: mpmath<1.4,>=1.1.0 in /usr/local/lib/python3.11/dist-packages (from sympy->cirq-core==1.5.0->cirq) (1.3.0)\n",
            "Requirement already satisfied: cython>=3.0.0 in /usr/local/lib/python3.11/dist-packages (from typedunits->cirq-google==1.5.0->cirq) (3.0.12)\n",
            "Requirement already satisfied: cachetools<6.0,>=2.0.0 in /usr/local/lib/python3.11/dist-packages (from google-auth<3.0.0,>=2.14.1->google-api-core>=1.14.0->google-api-core[grpc]>=1.14.0->cirq-google==1.5.0->cirq) (5.5.2)\n",
            "Requirement already satisfied: pyasn1-modules>=0.2.1 in /usr/local/lib/python3.11/dist-packages (from google-auth<3.0.0,>=2.14.1->google-api-core>=1.14.0->google-api-core[grpc]>=1.14.0->cirq-google==1.5.0->cirq) (0.4.2)\n",
            "Requirement already satisfied: rsa<5,>=3.1.4 in /usr/local/lib/python3.11/dist-packages (from google-auth<3.0.0,>=2.14.1->google-api-core>=1.14.0->google-api-core[grpc]>=1.14.0->cirq-google==1.5.0->cirq) (4.9.1)\n",
            "Requirement already satisfied: six>=1.5 in /usr/local/lib/python3.11/dist-packages (from python-dateutil>=2.7->matplotlib~=3.7->cirq-core==1.5.0->cirq) (1.17.0)\n",
            "Requirement already satisfied: pyasn1<0.7.0,>=0.6.1 in /usr/local/lib/python3.11/dist-packages (from pyasn1-modules>=0.2.1->google-auth<3.0.0,>=2.14.1->google-api-core>=1.14.0->google-api-core[grpc]>=1.14.0->cirq-google==1.5.0->cirq) (0.6.1)\n",
            "Downloading cirq-1.5.0-py3-none-any.whl (10 kB)\n",
            "Downloading cirq_aqt-1.5.0-py3-none-any.whl (31 kB)\n",
            "Downloading cirq_core-1.5.0-py3-none-any.whl (2.0 MB)\n",
            "\u001b[2K   \u001b[90m━━━━━━━━━━━━━━━━━━━━━━━━━━━━━━━━━━━━━━━━\u001b[0m \u001b[32m2.0/2.0 MB\u001b[0m \u001b[31m31.6 MB/s\u001b[0m eta \u001b[36m0:00:00\u001b[0m\n",
            "\u001b[?25hDownloading cirq_google-1.5.0-py3-none-any.whl (597 kB)\n",
            "\u001b[2K   \u001b[90m━━━━━━━━━━━━━━━━━━━━━━━━━━━━━━━━━━━━━━━━\u001b[0m \u001b[32m597.5/597.5 kB\u001b[0m \u001b[31m34.7 MB/s\u001b[0m eta \u001b[36m0:00:00\u001b[0m\n",
            "\u001b[?25hDownloading cirq_ionq-1.5.0-py3-none-any.whl (72 kB)\n",
            "\u001b[2K   \u001b[90m━━━━━━━━━━━━━━━━━━━━━━━━━━━━━━━━━━━━━━━━\u001b[0m \u001b[32m72.0/72.0 kB\u001b[0m \u001b[31m4.7 MB/s\u001b[0m eta \u001b[36m0:00:00\u001b[0m\n",
            "\u001b[?25hDownloading cirq_pasqal-1.5.0-py3-none-any.whl (33 kB)\n",
            "Downloading cirq_web-1.5.0-py3-none-any.whl (425 kB)\n",
            "\u001b[2K   \u001b[90m━━━━━━━━━━━━━━━━━━━━━━━━━━━━━━━━━━━━━━━━\u001b[0m \u001b[32m425.1/425.1 kB\u001b[0m \u001b[31m29.6 MB/s\u001b[0m eta \u001b[36m0:00:00\u001b[0m\n",
            "\u001b[?25hDownloading duet-0.2.9-py3-none-any.whl (29 kB)\n",
            "Downloading typedunits-0.0.1.dev20250509200845-cp311-cp311-manylinux_2_17_x86_64.manylinux2014_x86_64.whl (2.8 MB)\n",
            "\u001b[2K   \u001b[90m━━━━━━━━━━━━━━━━━━━━━━━━━━━━━━━━━━━━━━━━\u001b[0m \u001b[32m2.8/2.8 MB\u001b[0m \u001b[31m49.1 MB/s\u001b[0m eta \u001b[36m0:00:00\u001b[0m\n",
            "\u001b[?25hInstalling collected packages: typedunits, duet, cirq-core, cirq-web, cirq-pasqal, cirq-ionq, cirq-aqt, cirq-google, cirq\n",
            "Successfully installed cirq-1.5.0 cirq-aqt-1.5.0 cirq-core-1.5.0 cirq-google-1.5.0 cirq-ionq-1.5.0 cirq-pasqal-1.5.0 cirq-web-1.5.0 duet-0.2.9 typedunits-0.0.1.dev20250509200845\n"
          ]
        }
      ]
    },
    {
      "cell_type": "code",
      "execution_count": 2,
      "metadata": {
        "id": "61OhC_Dhxkwd"
      },
      "outputs": [],
      "source": [
        "import cirq\n",
        "from cirq import H, X, Y, Z, CX, inverse\n",
        "import matplotlib.pyplot as plt\n",
        "import networkx as nx"
      ]
    },
    {
      "cell_type": "markdown",
      "metadata": {
        "deletable": false,
        "editable": false,
        "nbgrader": {
          "cell_type": "markdown",
          "checksum": "3472598b6fdd1d56b50a9706c01827f8",
          "grade": false,
          "grade_id": "cell-d981eeb5458c0744",
          "locked": true,
          "schema_version": 3,
          "solution": false,
          "task": false
        },
        "id": "CWkndOAIxkwd"
      },
      "source": [
        "## Question 1 (4 points)\n",
        "\n",
        "Write a function, `oracle010`, that implements an oracle that marks the state $|010 \\rangle$. The function `oracle010` has\n",
        "\n",
        "* input: `qq`, a 3-qubit register\n",
        "* returns: `None`\n",
        "\n",
        "The function should append a sequence of gates to `qq` to mark the state $|010\\rangle$ only. Don't append any measurements to `qq`.\n",
        "\n",
        "To help you test the function, we have provided the `grover_diffusion` and `grover` functions."
      ]
    },
    {
      "cell_type": "code",
      "execution_count": 3,
      "metadata": {
        "deletable": false,
        "nbgrader": {
          "cell_type": "code",
          "checksum": "3234c674937c9ea97ec27157e9062acf",
          "grade": false,
          "grade_id": "cell-a08e811a0e1777c7",
          "locked": false,
          "schema_version": 3,
          "solution": true,
          "task": false
        },
        "id": "S0uxaQeZxkwe"
      },
      "outputs": [],
      "source": [
        "def oracle010(qq):\n",
        "    # YOUR CODE HERE\n",
        "    yield X(qq[0])\n",
        "    yield X(qq[2])\n",
        "    yield Z.controlled(2)(qq[0], qq[1], qq[2])\n",
        "    yield X(qq[2])\n",
        "    yield X(qq[0])"
      ]
    },
    {
      "cell_type": "code",
      "execution_count": 4,
      "metadata": {
        "id": "4YAm-rA9xkwe",
        "colab": {
          "base_uri": "https://localhost:8080/",
          "height": 104
        },
        "outputId": "ca58353c-8abf-4914-db82-8edb37173207"
      },
      "outputs": [
        {
          "output_type": "execute_result",
          "data": {
            "text/plain": [
              "0: ───X───@───X───\n",
              "          │\n",
              "1: ───────@───────\n",
              "          │\n",
              "2: ───X───@───X───"
            ],
            "text/html": [
              "<pre style=\"overflow: auto; white-space: pre;\">0: ───X───@───X───\n",
              "          │\n",
              "1: ───────@───────\n",
              "          │\n",
              "2: ───X───@───X───</pre>"
            ]
          },
          "metadata": {},
          "execution_count": 4
        }
      ],
      "source": [
        "# visualize your implemented gates\n",
        "qqTest = cirq.LineQubit.range(3)\n",
        "circuit = cirq.Circuit()\n",
        "circuit.append(oracle010(qqTest))\n",
        "circuit"
      ]
    },
    {
      "cell_type": "code",
      "execution_count": 5,
      "metadata": {
        "id": "oYkdQHqMxkwf"
      },
      "outputs": [],
      "source": [
        "# To check your solution, we need some to implement grover\n",
        "def grover_diffusion(qq,n):\n",
        "    yield H.on_each(*qq)\n",
        "    yield X.on_each(*qq)\n",
        "    yield Z(qq[n-1]).controlled_by(*(qq[0:n-1]))\n",
        "    yield X.on_each(*qq)\n",
        "    yield H.on_each(*qq)"
      ]
    },
    {
      "cell_type": "code",
      "execution_count": 6,
      "metadata": {
        "id": "JOh5Olukxkwf"
      },
      "outputs": [],
      "source": [
        "def grover(trials_number):\n",
        "    n=3\n",
        "    qq = cirq.LineQubit.range(n)\n",
        "    circuit = cirq.Circuit()\n",
        "    circuit.append(H.on_each(*qq))\n",
        "\n",
        "    for i in range(2):\n",
        "        circuit.append(oracle010(qq))\n",
        "        circuit.append(grover_diffusion(qq,n))\n",
        "    circuit.append(cirq.measure(*qq, key='result'))\n",
        "\n",
        "    # determine the statistics of the measurements\n",
        "    s = cirq.Simulator()\n",
        "    samples = s.run(circuit, repetitions=trials_number)\n",
        "\n",
        "    def bitstring(bits):\n",
        "        return \"\".join(str(int(b)) for b in bits)\n",
        "\n",
        "    counts = samples.histogram(key=\"result\",fold_func=bitstring)\n",
        "    print(counts)\n",
        "    return counts.get('010')"
      ]
    },
    {
      "cell_type": "code",
      "execution_count": 7,
      "metadata": {
        "id": "09fDpuDWxkwf",
        "colab": {
          "base_uri": "https://localhost:8080/"
        },
        "outputId": "6b070659-5334-41d0-a2c0-511c228262c0"
      },
      "outputs": [
        {
          "output_type": "stream",
          "name": "stdout",
          "text": [
            "Counter({'010': 97, '111': 1, '001': 1, '000': 1})\n"
          ]
        },
        {
          "output_type": "execute_result",
          "data": {
            "text/plain": [
              "97"
            ]
          },
          "metadata": {},
          "execution_count": 7
        }
      ],
      "source": [
        "# run grover to test if your function gives the right answer\n",
        "grover(100)"
      ]
    },
    {
      "cell_type": "code",
      "execution_count": null,
      "metadata": {
        "deletable": false,
        "editable": false,
        "nbgrader": {
          "cell_type": "code",
          "checksum": "cf2c533cdb00d2a3feebe35eda382c3e",
          "grade": true,
          "grade_id": "cell-c892138426ad8ca2",
          "locked": true,
          "points": 4,
          "schema_version": 3,
          "solution": false,
          "task": false
        },
        "id": "ozvdHPyVxkwf"
      },
      "outputs": [],
      "source": [
        "# hidden tests in this cell will be used for grading."
      ]
    },
    {
      "cell_type": "markdown",
      "metadata": {
        "deletable": false,
        "editable": false,
        "nbgrader": {
          "cell_type": "markdown",
          "checksum": "7f228055f783a050ae26ee080abbc49c",
          "grade": false,
          "grade_id": "cell-cd7b8bfe0163bb3c",
          "locked": true,
          "schema_version": 3,
          "solution": false,
          "task": false
        },
        "id": "rDQDs_z7xkwg"
      },
      "source": [
        "## Question 2 (6 points)\n",
        "\n",
        "Graph $G$ has 5 vertices and 6 edges: (0,3), (0,4), (1,3), (1,4), (2,3), (2,4).\n",
        "\n",
        "Write an oracle for the graph $G$ to check whether it admits a valid 2-coloring.\n",
        "\n",
        "The function `oracle2` has\n",
        "\n",
        "* input: `qq`, a 12-qubit register\n",
        "* returns: `None`\n",
        "\n",
        "The function should append only a sequence of gates to `qq`. It should not append any measurements to `qq`.\n",
        "\n",
        "Use qubits 0-4 for the vertices, 5-10 for the edges and 11 as the ancilla.\n",
        "\n",
        "You can test the oracle with the provided `grover_diffusion`, `grover` and `oracle_computation2` functions."
      ]
    },
    {
      "cell_type": "code",
      "source": [
        "import networkx as nx\n",
        "import matplotlib.pyplot as plt\n",
        "\n",
        "def design_graph():\n",
        "    \"\"\"\n",
        "    Draws the graph G with 5 vertices and 6 edges.\n",
        "    Graph G: vertices {0,1,2,3,4}, edges: (0,3), (0,4), (1,3), (1,4), (2,3), (2,4)\n",
        "    \"\"\"\n",
        "\n",
        "    # Create the graph\n",
        "    G = nx.Graph()\n",
        "\n",
        "    # Add the vertices\n",
        "    G.add_nodes_from([0, 1, 2, 3, 4])\n",
        "\n",
        "    # Add the edges\n",
        "    edges = [(0,3), (0,4), (1,3), (1,4), (2,3), (2,4)]\n",
        "    G.add_edges_from(edges)\n",
        "\n",
        "    # Figure configuration\n",
        "    plt.figure(figsize=(10, 8))\n",
        "\n",
        "    # Positions of vertices for a clear visualization\n",
        "    # Place vertices 0,1,2 on one side and 3,4 on the other (bipartite graph)\n",
        "    pos = {\n",
        "        0: (-1, 1),     # left side\n",
        "        1: (-1, 0),     # left side\n",
        "        2: (-1, -1),    # left side\n",
        "        3: (1, 0.5),    # right side\n",
        "        4: (1, -0.5)    # right side\n",
        "    }\n",
        "\n",
        "    # Draw the graph\n",
        "    nx.draw_networkx_nodes(G, pos,\n",
        "                          node_color=['lightblue', 'lightblue', 'lightblue', 'lightcoral', 'lightcoral'],\n",
        "                          node_size=1500,\n",
        "                          alpha=0.8)\n",
        "\n",
        "    nx.draw_networkx_edges(G, pos,\n",
        "                          edge_color='gray',\n",
        "                          width=2,\n",
        "                          alpha=0.6)\n",
        "\n",
        "    nx.draw_networkx_labels(G, pos,\n",
        "                           font_size=16,\n",
        "                           font_weight='bold')\n",
        "\n",
        "    # Add edge labels\n",
        "    edge_labels = {edge: f\"{edge[0]}-{edge[1]}\" for edge in edges}\n",
        "    nx.draw_networkx_edge_labels(G, pos, edge_labels, font_size=10)\n",
        "\n",
        "    plt.title(\"Graph G - Example of 2-coloring\\n5 vertices, 6 edges: (0,3), (0,4), (1,3), (1,4), (2,3), (2,4)\",\n",
        "              fontsize=14, pad=20)\n",
        "\n",
        "    # Add legend for colors\n",
        "    plt.text(-1.5, 1.5, \"Color 1\\n(vertices 0,1,2)\",\n",
        "             bbox=dict(boxstyle=\"round,pad=0.3\", facecolor=\"lightblue\", alpha=0.8),\n",
        "             fontsize=10)\n",
        "\n",
        "    plt.text(0.5, 1.5, \"Color 2\\n(vertices 3,4)\",\n",
        "             bbox=dict(boxstyle=\"round,pad=0.3\", facecolor=\"lightcoral\", alpha=0.8),\n",
        "             fontsize=10)\n",
        "\n",
        "    plt.axis('off')\n",
        "    plt.tight_layout()\n",
        "    plt.show()\n",
        "\n",
        "    # Display graph information\n",
        "    print(\"Graph G information:\")\n",
        "    print(f\"Number of vertices: {G.number_of_nodes()}\")\n",
        "    print(f\"Number of edges: {G.number_of_edges()}\")\n",
        "    print(f\"List of edges: {list(G.edges())}\")\n",
        "    print(f\"Degree of each vertex: {dict(G.degree())}\")\n",
        "    print(\"\\nThis graph is a complete bipartite graph K₃,₂\")\n",
        "    print(\"It is 2-colorable with partitions: {0,1,2} and {3,4}\")\n",
        "\n",
        "\n",
        "# Main function\n",
        "if __name__ == \"__main__\":\n",
        "    design_graph()\n"
      ],
      "metadata": {
        "colab": {
          "base_uri": "https://localhost:8080/",
          "height": 959
        },
        "id": "MdnZqRNIWU7O",
        "outputId": "f6608284-df04-44e3-e68b-88d7dfd38699"
      },
      "execution_count": 9,
      "outputs": [
        {
          "output_type": "display_data",
          "data": {
            "text/plain": [
              "<Figure size 1000x800 with 1 Axes>"
            ],
            "image/png": "[encoded data removed]"
          },
          "metadata": {}
        },
        {
          "output_type": "stream",
          "name": "stdout",
          "text": [
            "Graph G information:\n",
            "Number of vertices: 5\n",
            "Number of edges: 6\n",
            "List of edges: [(0, 3), (0, 4), (1, 3), (1, 4), (2, 3), (2, 4)]\n",
            "Degree of each vertex: {0: 2, 1: 2, 2: 2, 3: 3, 4: 3}\n",
            "\n",
            "This graph is a complete bipartite graph K₃,₂\n",
            "It is 2-colorable with partitions: {0,1,2} and {3,4}\n"
          ]
        }
      ]
    },
    {
      "cell_type": "code",
      "execution_count": 10,
      "metadata": {
        "deletable": false,
        "nbgrader": {
          "cell_type": "code",
          "checksum": "16112e54c261f4b68868827304f15052",
          "grade": false,
          "grade_id": "cell-d0a829ac63d428cc",
          "locked": false,
          "schema_version": 3,
          "solution": true,
          "task": false
        },
        "id": "z9f_Sarqxkwg"
      },
      "outputs": [],
      "source": [
        "def oracle2(qq):\n",
        "    # YOUR CODE HERE\n",
        "    # Compute verticle\n",
        "    #  (0,3) -> qubit 5\n",
        "    yield cirq.CX(qq[0], qq[5])\n",
        "    yield cirq.CX(qq[3], qq[5])\n",
        "\n",
        "    #  (0,4) -> qubit 6\n",
        "    yield cirq.CX(qq[0], qq[6])\n",
        "    yield cirq.CX(qq[4], qq[6])\n",
        "\n",
        "    #  (1,3) -> qubit 7\n",
        "    yield cirq.CX(qq[1], qq[7])\n",
        "    yield cirq.CX(qq[3], qq[7])\n",
        "\n",
        "    # (1,4) -> qubit 8\n",
        "    yield cirq.CX(qq[1], qq[8])\n",
        "    yield cirq.CX(qq[4], qq[8])\n",
        "\n",
        "    #  (2,3) -> qubit 9\n",
        "    yield cirq.CX(qq[2], qq[9])\n",
        "    yield cirq.CX(qq[3], qq[9])\n",
        "\n",
        "    #  (2,4) -> qubit 10\n",
        "    yield cirq.CX(qq[2], qq[10])\n",
        "    yield cirq.CX(qq[4], qq[10])\n",
        "\n",
        "    # prepare ancilla\n",
        "    controls = [qq[i] for i in range(5, 11)]\n",
        "    yield cirq.X(qq[11]).controlled_by(*controls)\n",
        "\n",
        "    # reverse calculation of verticle\n",
        "    #  (2,4) -> qubit 10\n",
        "    yield cirq.CX(qq[4], qq[10])\n",
        "    yield cirq.CX(qq[2], qq[10])\n",
        "\n",
        "    #  (2,3) -> qubit 9\n",
        "    yield cirq.CX(qq[3], qq[9])\n",
        "    yield cirq.CX(qq[2], qq[9])\n",
        "\n",
        "    #  (1,4) -> qubit 8\n",
        "    yield cirq.CX(qq[4], qq[8])\n",
        "    yield cirq.CX(qq[1], qq[8])\n",
        "\n",
        "    # (1,3) -> qubit 7\n",
        "    yield cirq.CX(qq[3], qq[7])\n",
        "    yield cirq.CX(qq[1], qq[7])\n",
        "\n",
        "    # (0,4) -> qubit 6\n",
        "    yield cirq.CX(qq[4], qq[6])\n",
        "    yield cirq.CX(qq[0], qq[6])\n",
        "\n",
        "    #  (0,3) -> qubit 5\n",
        "    yield cirq.CX(qq[3], qq[5])\n",
        "    yield cirq.CX(qq[0], qq[5])"
      ]
    },
    {
      "cell_type": "code",
      "execution_count": 11,
      "metadata": {
        "id": "dxmHZWcQxkwh"
      },
      "outputs": [],
      "source": [
        "# We need some code so you can check your solution\n",
        "def oracle_computation2(qq):\n",
        "    yield oracle2(qq)\n",
        "    yield Z(qq[11])\n",
        "    yield inverse(oracle2(qq))"
      ]
    },
    {
      "cell_type": "code",
      "execution_count": 12,
      "metadata": {
        "id": "10NoHD50xkwh"
      },
      "outputs": [],
      "source": [
        "def grover2(trials_number):\n",
        "    import cirq\n",
        "    from cirq import X, H, Z, inverse, CX\n",
        "    s = cirq.Simulator()\n",
        "\n",
        "    qq = cirq.LineQubit.range(12)\n",
        "    n=5\n",
        "\n",
        "    circuit = cirq.Circuit()\n",
        "    circuit.append(H.on_each(*(qq[0:n])))\n",
        "    for i in range(2):\n",
        "        circuit.append(oracle_computation2(qq))\n",
        "        circuit.append(grover_diffusion(qq,n))\n",
        "\n",
        "    circuit.append(cirq.measure(*(qq[0:n]), key='result'))\n",
        "\n",
        "    # determine the statistics of the measurements\n",
        "    samples = s.run(circuit, repetitions=trials_number)\n",
        "    result = samples.measurements[\"result\"]\n",
        "\n",
        "    def bitstring(bits):\n",
        "        return \"\".join(str(int(b)) for b in bits)\n",
        "\n",
        "    counts = samples.histogram(key=\"result\",fold_func=bitstring)\n",
        "    return counts"
      ]
    },
    {
      "cell_type": "code",
      "execution_count": 13,
      "metadata": {
        "id": "wW1PQwYnxkwh",
        "colab": {
          "base_uri": "https://localhost:8080/"
        },
        "outputId": "eacca9b9-7e59-4d34-b6a4-d24942d2482a"
      },
      "outputs": [
        {
          "output_type": "execute_result",
          "data": {
            "text/plain": [
              "Counter({'11100': 449,\n",
              "         '00011': 457,\n",
              "         '00000': 1,\n",
              "         '00010': 6,\n",
              "         '10010': 5,\n",
              "         '01110': 3,\n",
              "         '10101': 6,\n",
              "         '01000': 5,\n",
              "         '11111': 6,\n",
              "         '01101': 2,\n",
              "         '11110': 2,\n",
              "         '10001': 4,\n",
              "         '11001': 3,\n",
              "         '11101': 2,\n",
              "         '00111': 3,\n",
              "         '00100': 4,\n",
              "         '00001': 5,\n",
              "         '10000': 3,\n",
              "         '10111': 1,\n",
              "         '11011': 2,\n",
              "         '10100': 3,\n",
              "         '01100': 3,\n",
              "         '01001': 3,\n",
              "         '10011': 2,\n",
              "         '00110': 5,\n",
              "         '01111': 2,\n",
              "         '01011': 3,\n",
              "         '00101': 1,\n",
              "         '11000': 4,\n",
              "         '01010': 2,\n",
              "         '11010': 3})"
            ]
          },
          "metadata": {},
          "execution_count": 13
        }
      ],
      "source": [
        "#You can use this cell to test your solution\n",
        "shots=1000\n",
        "grover2(shots)"
      ]
    },
    {
      "cell_type": "code",
      "execution_count": null,
      "metadata": {
        "deletable": false,
        "editable": false,
        "nbgrader": {
          "cell_type": "code",
          "checksum": "4246ce18f04e859e5569cd7b80a1a3ee",
          "grade": true,
          "grade_id": "cell-f3af2ece23c10d8c",
          "locked": true,
          "points": 6,
          "schema_version": 3,
          "solution": false,
          "task": false
        },
        "id": "7Ch3y_o6xkwh"
      },
      "outputs": [],
      "source": [
        "# hidden tests in this cell will be used for grading."
      ]
    },
    {
      "cell_type": "markdown",
      "metadata": {
        "deletable": false,
        "editable": false,
        "nbgrader": {
          "cell_type": "markdown",
          "checksum": "4688464dab8ef5a5368bb0bb80dec0a2",
          "grade": false,
          "grade_id": "cell-70019a2ede111a61",
          "locked": true,
          "schema_version": 3,
          "solution": false,
          "task": false
        },
        "id": "b4HaTGYOxkwh"
      },
      "source": [
        "## Question 3 (10 points)\n",
        "\n",
        "Graph $G$ has 4 vertices and 5 edges: (0,1), (0,2), (0,3), (1,2), (1,3)\n",
        "\n",
        "Write an oracle for the graph $G$ to check whether there exists a coloring with at least 4 edges connecting vertices with different colors.\n",
        "\n",
        "The function `oracle3` has\n",
        "\n",
        "* input: `qq`, a 13-qubit register\n",
        "* returns: `None`\n",
        "\n",
        "The function should append only a sequence of gates to `qq`. It should not append any measurements to `qq`.\n",
        "\n",
        "Use qubits\n",
        "- 0-3 for the vertices,\n",
        "- 4-8 for the edges,\n",
        "- 9-11 for the addition (remember we need three qubits here for addition unlike the last question), and\n",
        "- 12 as the ancilla.\n",
        "\n",
        "You can test the oracle with the provided `grover_diffusion`, `grover` and `oracle_computation3` functions."
      ]
    },
    {
      "cell_type": "code",
      "source": [
        "import networkx as nx\n",
        "import matplotlib.pyplot as plt\n",
        "\n",
        "def draw_graph_colorings():\n",
        "    # Create the graph\n",
        "    G = nx.Graph()\n",
        "\n",
        "    # Add the nodes\n",
        "    G.add_nodes_from([0, 1, 2, 3])\n",
        "\n",
        "    # Add the edges\n",
        "    edges = [(0,1), (0,2), (0,3), (1,2), (1,3)]\n",
        "    G.add_edges_from(edges)\n",
        "\n",
        "    # Coloring solutions\n",
        "    solutions = [\n",
        "        [0, 0, 1, 1],\n",
        "        [1, 1, 0, 0],\n",
        "    ]\n",
        "\n",
        "    # Configure the figure\n",
        "    plt.figure(figsize=(15, 10))\n",
        "\n",
        "    # Draw each solution\n",
        "    for i, coloring in enumerate(solutions, 1):\n",
        "        plt.subplot(2, 3, i)\n",
        "\n",
        "        # Map the colors\n",
        "        color_map = ['red' if c == 0 else 'blue' for c in coloring]\n",
        "\n",
        "        # Graph layout\n",
        "        pos = nx.circular_layout(G)\n",
        "\n",
        "        # Draw the nodes\n",
        "        nx.draw_networkx_nodes(G, pos,\n",
        "                                node_color=color_map,\n",
        "                                node_size=500)\n",
        "\n",
        "        # Draw the edges\n",
        "        nx.draw_networkx_edges(G, pos)\n",
        "\n",
        "        # Add node labels\n",
        "        nx.draw_networkx_labels(G, pos)\n",
        "\n",
        "        # Title for each subgraph\n",
        "        plt.title(f\"Solution {i}: {coloring}\")\n",
        "\n",
        "        # Remove axes\n",
        "        plt.axis('off')\n",
        "\n",
        "    # Overall title\n",
        "    plt.suptitle(\"Graph Coloring Solutions\", fontsize=16)\n",
        "\n",
        "    # Display the graph\n",
        "    plt.tight_layout()\n",
        "    plt.show()\n",
        "\n",
        "# Run the function\n",
        "draw_graph_colorings()\n"
      ],
      "metadata": {
        "colab": {
          "base_uri": "https://localhost:8080/",
          "height": 538
        },
        "id": "1kUhxEgJWeOK",
        "outputId": "16acc9c5-6bcb-4126-eef7-969e1cd607ca"
      },
      "execution_count": 14,
      "outputs": [
        {
          "output_type": "display_data",
          "data": {
            "text/plain": [
              "<Figure size 1500x1000 with 2 Axes>"
            ],
            "image/png": "[encoded data removed]"
          },
          "metadata": {}
        }
      ]
    },
    {
      "cell_type": "code",
      "execution_count": 15,
      "metadata": {
        "deletable": false,
        "nbgrader": {
          "cell_type": "code",
          "checksum": "143856f98ba27993913f66a2e3ee33cf",
          "grade": false,
          "grade_id": "cell-a88eeb3907a822ff",
          "locked": false,
          "schema_version": 3,
          "solution": true,
          "task": false
        },
        "id": "1OjXsrQyxkwi"
      },
      "outputs": [],
      "source": [
        "def oracle3(qq):\n",
        "    # YOUR CODE HERE\n",
        "    # 1. Encode edge differences (qubits 4-8)\n",
        "    # Edge (0,1)\n",
        "    yield CX(qq[0], qq[4])\n",
        "    yield CX(qq[1], qq[4])\n",
        "    # Edge (0,2)\n",
        "    yield CX(qq[0], qq[5])\n",
        "    yield CX(qq[2], qq[5])\n",
        "    # Edge (0,3)\n",
        "    yield CX(qq[0], qq[6])\n",
        "    yield CX(qq[3], qq[6])\n",
        "    # Edge (1,2)\n",
        "    yield CX(qq[1], qq[7])\n",
        "    yield CX(qq[2], qq[7])\n",
        "    # Edge (1,3)\n",
        "    yield CX(qq[1], qq[8])\n",
        "    yield CX(qq[3], qq[8])\n",
        "\n",
        "\n",
        "    yield CCX(qq[4], qq[5], qq[9])      # qq[9] = qq[4] & qq[5]\n",
        "    yield CCX(qq[6], qq[7], qq[10])     # qq[10] = qq[6] & qq[7]\n",
        "    yield CCX(qq[9], qq[10], qq[11])    # qq[11] = qq[4]&qq[5]&qq[6]&qq[7]\n",
        "    yield CCX(qq[11], qq[8], qq[12])    # qq[12] = all 5 are 1\n",
        "\n",
        "\n",
        "    yield CCX(qq[9], qq[10], qq[11])\n",
        "    yield CCX(qq[6], qq[7], qq[10])\n",
        "    yield CCX(qq[4], qq[5], qq[9])\n",
        "\n",
        "\n",
        "    edge_indices = [4,5,6,7,8]\n",
        "    from itertools import combinations\n",
        "    for combo in combinations(edge_indices, 4):\n",
        "        # Set ancilla for this combination\n",
        "        controls = list(combo)\n",
        "        # We'll use qq[9], qq[10], qq[11] as temporary ancillas for 4-controls\n",
        "        # CCX(a,b,c): c = a & b\n",
        "        yield CCX(qq[controls[0]], qq[controls[1]], qq[9])\n",
        "        yield CCX(qq[controls[2]], qq[controls[3]], qq[10])\n",
        "        yield CCX(qq[9], qq[10], qq[11])\n",
        "        yield CX(qq[11], qq[12])\n",
        "        # Uncompute\n",
        "        yield CCX(qq[9], qq[10], qq[11])\n",
        "        yield CCX(qq[controls[2]], qq[controls[3]], qq[10])\n",
        "        yield CCX(qq[controls[0]], qq[controls[1]], qq[9])\n",
        "\n",
        "\n",
        "    # Reverse of encoding\n",
        "    yield CX(qq[1], qq[8])\n",
        "    yield CX(qq[3], qq[8])\n",
        "    yield CX(qq[1], qq[7])\n",
        "    yield CX(qq[2], qq[7])\n",
        "    yield CX(qq[0], qq[6])\n",
        "    yield CX(qq[3], qq[6])\n",
        "    yield CX(qq[0], qq[5])\n",
        "    yield CX(qq[2], qq[5])\n",
        "    yield CX(qq[0], qq[4])\n",
        "    yield CX(qq[1], qq[4])\n"
      ]
    },
    {
      "cell_type": "code",
      "execution_count": 16,
      "metadata": {
        "id": "dIBDunNnxkwi"
      },
      "outputs": [],
      "source": [
        "# We need some code so you can check your solution\n",
        "def oracle_computation3(qq):\n",
        "    yield oracle3(qq)\n",
        "    yield Z(qq[12])\n",
        "    yield inverse(oracle3(qq))"
      ]
    },
    {
      "cell_type": "code",
      "execution_count": 17,
      "metadata": {
        "id": "fu9vLuD-xkwi"
      },
      "outputs": [],
      "source": [
        "import cirq\n",
        "from cirq import X, H, Z, inverse, CX, CCX\n",
        "\n",
        "def grover3(trials_number):\n",
        "    s = cirq.Simulator()\n",
        "\n",
        "    qq = cirq.LineQubit.range(13)\n",
        "    n=4\n",
        "\n",
        "    circuit = cirq.Circuit()\n",
        "    circuit.append(H.on_each(*(qq[0:n])))\n",
        "    for i in range(2):\n",
        "        circuit.append(oracle_computation3(qq))\n",
        "        circuit.append(grover_diffusion(qq,n))\n",
        "\n",
        "    circuit.append(cirq.measure(*(qq[0:n]), key='result'))\n",
        "\n",
        "    # determine the statistics of the measurements\n",
        "    samples = s.run(circuit, repetitions=trials_number)\n",
        "    result = samples.measurements[\"result\"]\n",
        "\n",
        "    def bitstring(bits):\n",
        "        return \"\".join(str(int(b)) for b in bits)\n",
        "\n",
        "    counts = samples.histogram(key=\"result\",fold_func=bitstring)\n",
        "    return counts"
      ]
    },
    {
      "cell_type": "code",
      "execution_count": 18,
      "metadata": {
        "id": "S0ws-pmVxkwi",
        "colab": {
          "base_uri": "https://localhost:8080/"
        },
        "outputId": "e6864b12-e482-45af-e610-f53c8ca185b9"
      },
      "outputs": [
        {
          "output_type": "execute_result",
          "data": {
            "text/plain": [
              "Counter({'1100': 484,\n",
              "         '0011': 462,\n",
              "         '0000': 3,\n",
              "         '0010': 9,\n",
              "         '0101': 4,\n",
              "         '1001': 4,\n",
              "         '0111': 4,\n",
              "         '1010': 4,\n",
              "         '0110': 5,\n",
              "         '0001': 5,\n",
              "         '0100': 2,\n",
              "         '1101': 4,\n",
              "         '1000': 3,\n",
              "         '1110': 2,\n",
              "         '1111': 2,\n",
              "         '1011': 3})"
            ]
          },
          "metadata": {},
          "execution_count": 18
        }
      ],
      "source": [
        "#You can use this cell to test your solution\n",
        "shots=1000\n",
        "grover3(shots)"
      ]
    },
    {
      "cell_type": "code",
      "execution_count": null,
      "metadata": {
        "deletable": false,
        "editable": false,
        "nbgrader": {
          "cell_type": "code",
          "checksum": "2fb4f23a2628baa5c4bbd53548198e9c",
          "grade": true,
          "grade_id": "cell-e70ddbb5f64a88b3",
          "locked": true,
          "points": 10,
          "schema_version": 3,
          "solution": false,
          "task": false
        },
        "id": "5E5_PTE2xkwi"
      },
      "outputs": [],
      "source": [
        "# hidden tests in this cell will be used for grading."
      ]
    },
    {
      "cell_type": "code",
      "execution_count": null,
      "metadata": {
        "id": "m6poNcE0xkwi"
      },
      "outputs": [],
      "source": []
    }
  ],
  "metadata": {
    "kernelspec": {
      "display_name": "Python 3 (ipykernel)",
      "language": "python",
      "name": "python3"
    },
    "language_info": {
      "codemirror_mode": {
        "name": "ipython",
        "version": 3
      },
      "file_extension": ".py",
      "mimetype": "text/x-python",
      "name": "python",
      "nbconvert_exporter": "python",
      "pygments_lexer": "ipython3",
      "version": "3.10.12"
    },
    "colab": {
      "provenance": [],
      "include_colab_link": true
    }
  },
  "nbformat": 4,
  "nbformat_minor": 0
}